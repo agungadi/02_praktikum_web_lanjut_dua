{
  "nbformat": 4,
  "nbformat_minor": 0,
  "metadata": {
    "colab": {
      "name": "Modul1.ipynb",
      "provenance": [],
      "authorship_tag": "ABX9TyMtvB8Q+Ez54C4hmmtYhni6",
      "include_colab_link": true
    },
    "kernelspec": {
      "name": "python3",
      "display_name": "Python 3"
    },
    "language_info": {
      "name": "python"
    }
  },
  "cells": [
    {
      "cell_type": "markdown",
      "metadata": {
        "id": "view-in-github",
        "colab_type": "text"
      },
      "source": [
        "<a href=\"https://colab.research.google.com/github/agungadi/02_praktikum_web_lanjut_dua/blob/master/Modul1.ipynb\" target=\"_parent\"><img src=\"https://colab.research.google.com/assets/colab-badge.svg\" alt=\"Open In Colab\"/></a>"
      ]
    },
    {
      "cell_type": "markdown",
      "source": [
        "# Nama : Agung Adi Saputra\n",
        "## Nim :  2041723002 \n",
        "## Kelas : TI 3E"
      ],
      "metadata": {
        "id": "jI3P1oVYwZVD"
      }
    },
    {
      "cell_type": "code",
      "execution_count": null,
      "metadata": {
        "id": "s4_C22VdwLpW"
      },
      "outputs": [],
      "source": [
        ""
      ]
    }
  ]
}